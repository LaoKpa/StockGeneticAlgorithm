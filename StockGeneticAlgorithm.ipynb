{
 "cells": [
  {
   "cell_type": "markdown",
   "metadata": {},
   "source": [
    "# Simple stock problem solved using genetic algorithm"
   ]
  },
  {
   "cell_type": "code",
   "execution_count": 1,
   "metadata": {},
   "outputs": [
    {
     "name": "stdout",
     "output_type": "stream",
     "text": [
      "Populating the interactive namespace from numpy and matplotlib\n"
     ]
    },
    {
     "name": "stderr",
     "output_type": "stream",
     "text": [
      "/home/morales/anaconda3/lib/python3.7/site-packages/IPython/core/magics/pylab.py:160: UserWarning: pylab import has clobbered these variables: ['plt']\n",
      "`%matplotlib` prevents importing * from pylab and numpy\n",
      "  \"\\n`%matplotlib` prevents importing * from pylab and numpy\"\n"
     ]
    }
   ],
   "source": [
    "##Importación de librerias \n",
    "\n",
    "import numpy as np\n",
    "import matplotlib.pylab as plt\n",
    "%pylab inline\n"
   ]
  },
  {
   "cell_type": "code",
   "execution_count": 2,
   "metadata": {},
   "outputs": [],
   "source": [
    "G=[]\n",
    "##Definición de funciones \n",
    "\n",
    "##Función que calcula el fitness a un individuo que tiene una estrategía = estrategia,para unas determinadas\n",
    "##probabilidades y ganancias\n",
    "\n",
    "def fitness(estrategia,probabilidades,ganancias):\n",
    "    f=100\n",
    "    #ProbTemporal=np.array(probabilidades)\n",
    "    for i in range(len(estrategia)):\n",
    "        G.append(ganancias[:])\n",
    "        rn=np.random.random()\n",
    "        if estrategia[i] == 1 and rn <= probabilidades[0]:\n",
    "                f*=(100+ganancias[0])/100.\n",
    "                ganancias[0]-=0.1\n",
    "                ganancias[1]+=0.09\n",
    "                ganancias[2]+=0.08\n",
    "                probabilidades[0]-=1/(1+probabilidades[0])\n",
    "                probabilidades[1]+=1/(1+probabilidades[1])\n",
    "                probabilidades[2]+=1/(1+probabilidades[2])\n",
    "        elif estrategia[i] == 2 and rn <=probabilidades[1]:\n",
    "                f*=(100+ganancias[1])/100.\n",
    "                ganancias[0]-=0.05\n",
    "                ganancias[1]-=0.12\n",
    "                ganancias[2]+=0.08\n",
    "                probabilidades[0]+=1/(1+probabilidades[0])\n",
    "                probabilidades[1]-=1/(1+probabilidades[1])\n",
    "                probabilidades[2]+=1/(1+probabilidades[2])\n",
    "        elif estrategia[i] == 3 and rn <= probabilidades[2]:\n",
    "                f*=(100+ganancias[2])/100.\n",
    "                ganancias[0]+=0.11\n",
    "                ganancias[1]-=0.08\n",
    "                ganancias[2]-=0.07\n",
    "                probabilidades[0]+=1/(1+probabilidades[0])\n",
    "                probabilidades[1]+=1/(1+probabilidades[1])\n",
    "                probabilidades[2]-=1/(1+probabilidades[2])\n",
    "        if probabilidades[0]>1:\n",
    "            probabilidades[0]=1\n",
    "        elif probabilidades[0]<0:\n",
    "            probabilidades[0]=0\n",
    "        if probabilidades[1]>1:\n",
    "            probabilidades[1]=1\n",
    "        elif probabilidades[1]<0:\n",
    "            probabilidades[1]=0\n",
    "        if probabilidades[2]>1:\n",
    "            probabilidades[2]=1\n",
    "        elif probabilidades[2]<0:\n",
    "            probabilidades[2]=0\n",
    "        \n",
    "            \n",
    "    return f\n",
    "\n",
    "\n",
    "#Función que calcula el fitness para cada uno de los N individuos de una generación\n",
    "def promfitness():\n",
    "    SumFit=[]\n",
    "    for i in range(N):\n",
    "        #Se redefine probabilidades para que las probabilidades iniciales sean las mismas para cada individuo\n",
    "        probabilidades=np.array(Prob)\n",
    "        ganancias=np.array(Gan)\n",
    "        \n",
    "        #SumFit es un vector con el fitness de cada estrategia de la generacion (Se renueva cada generación, no se guarda)\n",
    "        SumFit.append(fitness(estrategias[i],probabilidades,ganancias))\n",
    "    return SumFit\n"
   ]
  },
  {
   "cell_type": "code",
   "execution_count": 3,
   "metadata": {},
   "outputs": [],
   "source": [
    "#Se crea una semilla aleatoria para comprobar que el programa funciona sin importar las caracteristicas\n",
    "np.random.seed(np.random.randint(0,100))\n",
    "\n",
    "estrategias=[]\n",
    "\n",
    "#E es el numero de empresas, o de posibles acciones en cada paso de tiempo\n",
    "E=3\n",
    "\n",
    "#Se generan las ganancias como numeros enteros (no tienen que ser enteros necesariamente) para cada una de las empresas\n",
    "#Gan es la tupla de las ganancias iniciales\n",
    "Gan=tuple((np.random.random(E)*2-1)*100)\n",
    "\n",
    "ganancias=(np.array(Gan))\n",
    "\n",
    "#Prob es un invariante con las probabilidades iniciales para cada individuo\n",
    "Prob=tuple(np.random.random(E))\n",
    "\n",
    "#probabilidades es un vector con las probabilidades que van variando para cada individuo, su valor inicial es Prob\n",
    "probabilidades=np.array(Prob)\n",
    "\n",
    "#N es el numero de individuos por generación\n",
    "N=100\n",
    "\n",
    "#l es el numero de genes, en este caso es la cantidad de acciones que realiza cada individuo\n",
    "l=500\n",
    "\n",
    "#Para cada individuo se crea un vector de l espacios con valores entre 0 y E, donde el número e representa la empresa e\n",
    "for i in range(N):\n",
    "    estrategias.append(np.random.randint(1,8,l))\n",
    "estrategias=np.array(estrategias)"
   ]
  },
  {
   "cell_type": "code",
   "execution_count": 115,
   "metadata": {},
   "outputs": [],
   "source": [
    "#m es el numemero de generaciones\n",
    "m=500\n",
    "\n",
    "#Se generan espacios para guardar el maximo u el minimo de cada generación\n",
    "maximos=[]\n",
    "minimos=[]\n",
    "\n",
    "BestF = 0\n",
    "#Se itera para las m generaciones\n",
    "for j in range(m):    \n",
    "    #Se calcula el fitness para cada uno de los individuos de la generación m\n",
    "    SumFit=promfitness()\n",
    "    #BestE es la mejor estrategia que se ha encontrado y BestF el fitness de la mejor estrategia\n",
    "    if np.max(SumFit)>BestF:\n",
    "        BestE = estrategias[SumFit >= np.sort(SumFit)[-1]]\n",
    "        BestF = np.max(SumFit)\n",
    "    #Se toma el valor del maximo y el minimo fitness de la generacion\n",
    "    maximos.append(np.max(SumFit))\n",
    "    minimos.append(np.min(SumFit))\n",
    "    \n",
    "    #Se escoge a la elite como todas las estrategias que tengan un fitness mejor o igual que el decimo mejor\n",
    "    elite = np.array(estrategias)[SumFit >= np.sort(SumFit)[-10]]\n",
    "    #print(elite)\n",
    "    \n",
    "    #A continuación se crean N nuevos individuos (estrategias) que surgen de la reproducción (unión) de 2 individuos \n",
    "    #escogidos al azar entre los individuos de la elite\n",
    "    for i in range(N):\n",
    "        \n",
    "        #Se crea un vector de numeros aleatorios donde el primero es el primer individuo de la elite que se toma, y \n",
    "        #el segundo es el segundo individuo. El tercero es un entero entre 0 y l el cual representa donde se hace el \n",
    "        #corte, i.e hasta donde se toman los genes del primero y desde donde se toman los del segundo.\n",
    "        \n",
    "        rn = np.append(np.random.randint(0,len(elite),2),np.random.randint(0,l+1))\n",
    "        estrategias[i] = np.append(elite[rn[0]][0:rn[2]],elite[rn[1]][rn[2]:l+1])\n",
    "        \n",
    "        #A continuación se realizan algunas variaciones aleatorias que representan las mutaciones\n",
    "        estrategias[i][np.random.randint(0,l)]=np.random.randint(0,E)\n",
    "        estrategias[i][np.random.randint(0,l)]=np.random.randint(0,E)\n",
    "        estrategias[i][np.random.randint(0,l)]=np.random.randint(0,E)\n",
    "        estrategias[i][np.random.randint(0,l)]=np.random.randint(0,E)\n",
    "        estrategias[i][np.random.randint(0,l)]=np.random.randint(0,E)\n",
    "        estrategias[i][np.random.randint(0,l)]=np.random.randint(0,E)\n",
    "        \n",
    "   "
   ]
  },
  {
   "cell_type": "code",
   "execution_count": 127,
   "metadata": {},
   "outputs": [
    {
     "data": {
      "text/plain": [
       "<matplotlib.text.Text at 0x7f67afd21f60>"
      ]
     },
     "execution_count": 127,
     "metadata": {},
     "output_type": "execute_result"
    },
    {
     "data": {
      "image/png": "[encoded data removed]",
      "text/plain": [
       "<matplotlib.figure.Figure at 0x7f684f21bcf8>"
      ]
     },
     "metadata": {},
     "output_type": "display_data"
    },
    {
     "data": {
      "image/png": "[encoded data removed]",
      "text/plain": [
       "<matplotlib.figure.Figure at 0x7f67afd116a0>"
      ]
     },
     "metadata": {},
     "output_type": "display_data"
    }
   ],
   "source": [
    "#Se grafican los maximos y minimos de cada generación para observar el comportamiento a largo plazo\n",
    "plt.plot(np.log(maximos))\n",
    "plt.title(\"Maximos de cada generacion\")\n",
    "plt.xlabel(\"Generacion\")\n",
    "plt.ylabel(\"Log(Fitness)\")\n",
    "\n",
    "\n",
    "plt.figure()\n",
    "plt.plot(np.log(minimos))\n",
    "plt.title(\"Minimos de cada generacion\")\n",
    "plt.xlabel(\"Generacion\")\n",
    "plt.ylabel(\"Log(Fitness)\")"
   ]
  },
  {
   "cell_type": "code",
   "execution_count": 128,
   "metadata": {},
   "outputs": [
    {
     "name": "stdout",
     "output_type": "stream",
     "text": [
      "[1 1 1 1 0 1 2 1 1 1 0 1 2 1 7 1 1 1 1 0 2 1 0 1 1 2 1 0 1 1 1 2 1 1 1 1 0\n",
      " 1 1 2 1 1 0 2 1 1 1 1 2 0 1 0 1 0 1 1 1 2 0 0 0 0 1 1 0 1 0 1 1 0 0 2 1 1\n",
      " 1 1 2 1 1 1 2 1 1 0 2 1 2 1 1 2 1 1 2 1 4 2 0 1 0 1 0 0 0 0 2 1 0 1 1 1 0\n",
      " 0 1 2 1 1 1 2 0 0 0 1 1 1 1 1 2 0 1 0 1 1 2 0 1 1 2 2 1 1 0 1 0 1 2 0 1 1\n",
      " 0 2 1 0 1 6 0 0 1 2 1 2 1 2 1 2 1 1 0 0 1 1 2 1 1 0 0 0 1 1 2 1 0 1 1 2 0\n",
      " 1 1 1 1 1 2 1 1 0 1 1 1 1 2 1 1 2 1 0 2 1 1 2 0 1 2 0 0 1 0 1 1 1 0 2 0 1\n",
      " 1 0 0 0 0 1 1 0 1 1 2 1 1 0 2 0 1 0 0 1 1 1 2 1 2 1 1 2 1 1 2 1 0 1 1 2 0\n",
      " 0 1 1 1 0 0 1 2 0 1 6 1 1 1 2 1 1 2 1 1 1 0 1 2 1 1 0 0 2 1 1 1 1 0 0 2 1\n",
      " 1 2 1 1 0 1 2 1 2 1 0 2 1 1 2 0 5 0 0 1 1 0 1 0 0 2 0 0 0 0 0 1 1 1 0 1 2\n",
      " 1 1 0 0 1 1 2 2 1 2 1 0 1 1 0 1 2 1 0 1 1 2 0 1 0 1 1 1 2 1 0 0 1 2 1 0 1\n",
      " 1 1 1 2 0 0 1 1 0 1 0 2 0 1 1 2 1 1 0 1 0 0 2 0 1 1 0 0 1 0 1 2 0 1 1 2 1\n",
      " 1 1 1 2 0 1 1 0 1 2 1 0 1 1 2 1 0 0 1 0 0 0 0 1 2 0 1 1 2 1 0 1 2 2 1 0 1\n",
      " 1 1 2 1 1 0 1 1 1 2 1 0 1 1 1 0 1 1 2 1 1 2 1 1 2 1 0 0 0 0 0 0 1 0 1 1 0\n",
      " 2 1 1 2 0 0 1 1 0 2 0 1 0 1 1 0 1 0 0]\n",
      "3.65712444781e+14\n",
      "32.3319167456\n",
      "294.987460127\n",
      "100\n"
     ]
    }
   ],
   "source": [
    "#Se imprime la mejor estrategia encontrada, el mejor fitness y los fitness de las soluciones triviales\n",
    "print(BestE[0])\n",
    "print(BestF)\n",
    "www=np.ones(len(BestE[0]))*2\n",
    "print(fitness(www,probabilidades,ganancias))\n",
    "www1=np.ones(len(BestE[0]))\n",
    "print(fitness(www1,probabilidades,ganancias))\n",
    "www2=np.zeros(len(BestE[0]))\n",
    "print(fitness(www2,probabilidades,ganancias))\n"
   ]
  },
  {
   "cell_type": "code",
   "execution_count": 129,
   "metadata": {},
   "outputs": [
    {
     "name": "stdout",
     "output_type": "stream",
     "text": [
      "[ 71.60199711 -43.13880695 -84.14872238] [ 11.32804402 -93.13715448  82.88213398]\n"
     ]
    }
   ],
   "source": [
    "print(G[-1],G[1])"
   ]
  }
 ],
 "metadata": {
  "anaconda-cloud": {},
  "kernelspec": {
   "display_name": "Python 2",
   "language": "python",
   "name": "python2"
  },
  "language_info": {
   "codemirror_mode": {
    "name": "ipython",
    "version": 3
   },
   "file_extension": ".py",
   "mimetype": "text/x-python",
   "name": "python",
   "nbconvert_exporter": "python",
   "pygments_lexer": "ipython3",
   "version": "3.7.3"
  }
 },
 "nbformat": 4,
 "nbformat_minor": 1
}
